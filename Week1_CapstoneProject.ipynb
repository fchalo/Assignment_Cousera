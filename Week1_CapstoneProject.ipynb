{
 "cells": [
  {
   "cell_type": "markdown",
   "metadata": {},
   "source": [
    "# Capstone Project: The Battle of Neighbourhoods (WEEK1)\n"
   ]
  },
  {
   "cell_type": "markdown",
   "metadata": {},
   "source": [
    "by Fais Chalo"
   ]
  },
  {
   "cell_type": "markdown",
   "metadata": {},
   "source": [
    "## 1. Introduction\n"
   ]
  },
  {
   "cell_type": "markdown",
   "metadata": {},
   "source": [
    "### 1.1. Problem Description"
   ]
  },
  {
   "cell_type": "markdown",
   "metadata": {},
   "source": [
    "Visiting a new city which seems to be to big to explore all in once is a problem when it comes to metropolies like London. Through a wide range of different cultures London developent economically, socially and politcially.\n",
    "\n",
    "One great aspect of the diversity is the wide range of different eating possibilities.\n",
    "\n",
    "But since it can be quite hard to distinguish between a good and bad restaurant and which one to choose there should be parameters in consideration to easen up the search. In my todays analysis i want to take the case of african food restaurants in London, which i recently heard of are quite popular. "
   ]
  },
  {
   "cell_type": "markdown",
   "metadata": {},
   "source": [
    "### 1.2 Background and Motivation"
   ]
  },
  {
   "cell_type": "markdown",
   "metadata": {},
   "source": [
    "Since my coworker is from Ghana and we recently got a new colleague from Senegal, my interest for the african food quitly increased since there are bringing all kind of delicious food to work. \n",
    "\n",
    "My Ghanese coworker mentioned therefore that he is thinking about opening a Ghanese restaurant in London, but isn't quite sure about the current information provided.\n",
    "\n",
    "Therefore i will lend him a hand in providing a deep analysis about the possibilities."
   ]
  },
  {
   "cell_type": "markdown",
   "metadata": {},
   "source": [
    "### 1.3. Possible Audience"
   ]
  },
  {
   "cell_type": "markdown",
   "metadata": {},
   "source": [
    "Like i mentioned there is a high range of diversity in London and so we can conclude that besides the tourist also locals could be highly interested in finding the most visitable restaurant in whole london. Therefore the target audience are people who care about a high sophisticated african restaurant with high quality standarts."
   ]
  },
  {
   "cell_type": "markdown",
   "metadata": {},
   "source": [
    "## 2. Data\n"
   ]
  },
  {
   "cell_type": "markdown",
   "metadata": {},
   "source": [
    "### 2.1 Description of Data "
   ]
  },
  {
   "cell_type": "markdown",
   "metadata": {},
   "source": [
    "In my Analysis i will take data from the sites Wikipedia and Foursquare.\n",
    "\n",
    "**Dataset 1**\n",
    "\n",
    "In this dataset i will examine data from the Areas of London which was provided by wikipedia.\n",
    "\n",
    "The London Area has 32 Boroughs and the \"City of London\". You can find the data here - Greater London Area <https://en.wikipedia.org/wiki/List_of_areas_of_London >\n",
    "\n",
    "The web scrapped of the Wikipedia page for the Greater London Area data is provided below:"
   ]
  },
  {
   "cell_type": "code",
   "execution_count": 27,
   "metadata": {},
   "outputs": [],
   "source": [
    "\n",
    "import requests\n",
    "import pandas as pd\n",
    "from bs4 import BeautifulSoup"
   ]
  },
  {
   "cell_type": "code",
   "execution_count": 52,
   "metadata": {},
   "outputs": [
    {
     "data": {
      "text/plain": [
       "<Response [200]>"
      ]
     },
     "execution_count": 52,
     "metadata": {},
     "output_type": "execute_result"
    }
   ],
   "source": [
    "wikipedia_link = 'https://en.wikipedia.org/wiki/List_of_areas_of_London'\n",
    "headers = {'User-Agent': 'Chrome/5.0 (Windows 10.0; Win64; x64; rv:64.0) Fais/ Chrome/64.0'}\n",
    "wikipedia_page = requests.get(wikipedia_link, headers = headers)\n",
    "wikipedia_page"
   ]
  },
  {
   "cell_type": "code",
   "execution_count": 2,
   "metadata": {},
   "outputs": [
    {
     "data": {
      "text/plain": [
       "<Response [200]>"
      ]
     },
     "execution_count": 2,
     "metadata": {},
     "output_type": "execute_result"
    }
   ],
   "source": [
    "wikipedia_link = 'https://en.wikipedia.org/wiki/List_of_areas_of_London'\n",
    "headers = {'User-Agent': 'Mozilla/5.0 (Windows NT 10.0; Win64; x64; rv:64.0) Gecko/20100101 Firefox/64.0'}\n",
    "wikipedia_page = requests.get(wikipedia_link, headers = headers)\n",
    "wikipedia_page"
   ]
  },
  {
   "cell_type": "code",
   "execution_count": 31,
   "metadata": {},
   "outputs": [],
   "source": [
    "# First you need to clean html file and extract the \"tbody\" within the table where class is \"wikitable sortable\"\n",
    "\n",
    "soup = BeautifulSoup(wikipedia_page.content, 'html.parser')\n",
    "table = soup.find('table', {'class':'wikitable sortable'}).tbody"
   ]
  },
  {
   "cell_type": "code",
   "execution_count": 33,
   "metadata": {},
   "outputs": [
    {
     "data": {
      "text/html": [
       "<div>\n",
       "<style scoped>\n",
       "    .dataframe tbody tr th:only-of-type {\n",
       "        vertical-align: middle;\n",
       "    }\n",
       "\n",
       "    .dataframe tbody tr th {\n",
       "        vertical-align: top;\n",
       "    }\n",
       "\n",
       "    .dataframe thead th {\n",
       "        text-align: right;\n",
       "    }\n",
       "</style>\n",
       "<table border=\"1\" class=\"dataframe\">\n",
       "  <thead>\n",
       "    <tr style=\"text-align: right;\">\n",
       "      <th></th>\n",
       "      <th>Location</th>\n",
       "      <th>London borough</th>\n",
       "      <th>Post town</th>\n",
       "      <th>Postcode district</th>\n",
       "      <th>Dial code</th>\n",
       "      <th>OS grid ref</th>\n",
       "    </tr>\n",
       "  </thead>\n",
       "  <tbody>\n",
       "  </tbody>\n",
       "</table>\n",
       "</div>"
      ],
      "text/plain": [
       "Empty DataFrame\n",
       "Columns: [Location, London borough, Post town, Postcode district, Dial code, OS grid ref]\n",
       "Index: []"
      ]
     },
     "execution_count": 33,
     "metadata": {},
     "output_type": "execute_result"
    }
   ],
   "source": [
    "# Extracts all \"tr\" (table rows) within the table above\n",
    "rows = table.find_all('tr')\n",
    "# Extracts the column headers, removes and replaces possible '\\n' with space for the \"th\" tag\n",
    "columns = [i.text.replace('\\n', '')\n",
    "           for i in rows[0].find_all('th')]\n",
    "# Converts columns to pd dataframe\n",
    "df = pd.DataFrame(columns = columns)\n",
    "df"
   ]
  },
  {
   "cell_type": "code",
   "execution_count": 34,
   "metadata": {},
   "outputs": [],
   "source": [
    "# Extracts every row with corresponding columns, then append the values to the created pd dataframe \"df\"\n",
    "for i in range(1, len(rows)):\n",
    "    tds = rows[i].find_all('td')\n",
    "    \n",
    "    \n",
    "    if len(tds) == 7:\n",
    "        values = [tds[0].text, tds[1].text, tds[2].text.replace('\\n', ''.replace('\\xa0','')), tds[3].text, tds[4].text.replace('\\n', ''.replace('\\xa0','')), tds[5].text.replace('\\n', ''.replace('\\xa0','')), tds[6].text.replace('\\n', ''.replace('\\xa0',''))]\n",
    "    else:\n",
    "        values = [td.text.replace('\\n', '').replace('\\xa0','') for td in tds]\n",
    "        \n",
    "        df = df.append(pd.Series(values, index = columns), ignore_index = True)\n",
    "\n",
    "        df"
   ]
  },
  {
   "cell_type": "code",
   "execution_count": 39,
   "metadata": {},
   "outputs": [
    {
     "data": {
      "text/html": [
       "<div>\n",
       "<style scoped>\n",
       "    .dataframe tbody tr th:only-of-type {\n",
       "        vertical-align: middle;\n",
       "    }\n",
       "\n",
       "    .dataframe tbody tr th {\n",
       "        vertical-align: top;\n",
       "    }\n",
       "\n",
       "    .dataframe thead th {\n",
       "        text-align: right;\n",
       "    }\n",
       "</style>\n",
       "<table border=\"1\" class=\"dataframe\">\n",
       "  <thead>\n",
       "    <tr style=\"text-align: right;\">\n",
       "      <th></th>\n",
       "      <th>Location</th>\n",
       "      <th>Borough</th>\n",
       "      <th>Post-town</th>\n",
       "      <th>Postcode</th>\n",
       "      <th>Dial-code</th>\n",
       "      <th>OSGridRef</th>\n",
       "    </tr>\n",
       "  </thead>\n",
       "  <tbody>\n",
       "    <tr>\n",
       "      <th>0</th>\n",
       "      <td>Abbey Wood</td>\n",
       "      <td>Bexley,  Greenwich [1]</td>\n",
       "      <td>LONDON</td>\n",
       "      <td>SE2</td>\n",
       "      <td>020</td>\n",
       "      <td>TQ465785</td>\n",
       "    </tr>\n",
       "    <tr>\n",
       "      <th>1</th>\n",
       "      <td>Acton</td>\n",
       "      <td>Ealing, Hammersmith and Fulham[2]</td>\n",
       "      <td>LONDON</td>\n",
       "      <td>W3, W4</td>\n",
       "      <td>020</td>\n",
       "      <td>TQ205805</td>\n",
       "    </tr>\n",
       "    <tr>\n",
       "      <th>2</th>\n",
       "      <td>Addington</td>\n",
       "      <td>Croydon[2]</td>\n",
       "      <td>CROYDON</td>\n",
       "      <td>CR0</td>\n",
       "      <td>020</td>\n",
       "      <td>TQ375645</td>\n",
       "    </tr>\n",
       "    <tr>\n",
       "      <th>3</th>\n",
       "      <td>Addiscombe</td>\n",
       "      <td>Croydon[2]</td>\n",
       "      <td>CROYDON</td>\n",
       "      <td>CR0</td>\n",
       "      <td>020</td>\n",
       "      <td>TQ345665</td>\n",
       "    </tr>\n",
       "    <tr>\n",
       "      <th>4</th>\n",
       "      <td>Albany Park</td>\n",
       "      <td>Bexley</td>\n",
       "      <td>BEXLEY, SIDCUP</td>\n",
       "      <td>DA5, DA14</td>\n",
       "      <td>020</td>\n",
       "      <td>TQ478728</td>\n",
       "    </tr>\n",
       "  </tbody>\n",
       "</table>\n",
       "</div>"
      ],
      "text/plain": [
       "      Location                            Borough       Post-town   Postcode  \\\n",
       "0   Abbey Wood             Bexley,  Greenwich [1]          LONDON        SE2   \n",
       "1        Acton  Ealing, Hammersmith and Fulham[2]          LONDON     W3, W4   \n",
       "2    Addington                         Croydon[2]         CROYDON        CR0   \n",
       "3   Addiscombe                         Croydon[2]         CROYDON        CR0   \n",
       "4  Albany Park                             Bexley  BEXLEY, SIDCUP  DA5, DA14   \n",
       "\n",
       "  Dial-code OSGridRef  \n",
       "0       020  TQ465785  \n",
       "1       020  TQ205805  \n",
       "2       020  TQ375645  \n",
       "3       020  TQ345665  \n",
       "4       020  TQ478728  "
      ]
     },
     "execution_count": 39,
     "metadata": {},
     "output_type": "execute_result"
    }
   ],
   "source": [
    "df.head(5)"
   ]
  },
  {
   "cell_type": "code",
   "execution_count": 38,
   "metadata": {},
   "outputs": [],
   "source": [
    "df = df.rename(index=str, columns = {'Location': 'Location', 'London\\xa0borough': 'Borough', 'Post town': 'Post-town', 'Postcode\\xa0district': 'Postcode', 'Dial\\xa0code': 'Dial-code', 'OS grid ref': 'OSGridRef'})"
   ]
  },
  {
   "cell_type": "code",
   "execution_count": 41,
   "metadata": {},
   "outputs": [],
   "source": [
    "df['Borough'] = df['Borough'].map(lambda x: x.rstrip(']').rstrip('0123456789').rstrip('['))\n",
    "df0 = df.drop('Postcode', axis=1).join(df['Postcode'].str.split(',', expand=True).stack().reset_index(level=1, drop=True).rename('Postcode'))\n",
    "df1 = df0[['Location', 'Borough', 'Postcode', 'Post-town']].reset_index(drop=True)"
   ]
  },
  {
   "cell_type": "code",
   "execution_count": 42,
   "metadata": {},
   "outputs": [
    {
     "data": {
      "text/html": [
       "<div>\n",
       "<style scoped>\n",
       "    .dataframe tbody tr th:only-of-type {\n",
       "        vertical-align: middle;\n",
       "    }\n",
       "\n",
       "    .dataframe tbody tr th {\n",
       "        vertical-align: top;\n",
       "    }\n",
       "\n",
       "    .dataframe thead th {\n",
       "        text-align: right;\n",
       "    }\n",
       "</style>\n",
       "<table border=\"1\" class=\"dataframe\">\n",
       "  <thead>\n",
       "    <tr style=\"text-align: right;\">\n",
       "      <th></th>\n",
       "      <th>Location</th>\n",
       "      <th>Borough</th>\n",
       "      <th>Postcode</th>\n",
       "      <th>Post-town</th>\n",
       "    </tr>\n",
       "  </thead>\n",
       "  <tbody>\n",
       "    <tr>\n",
       "      <th>0</th>\n",
       "      <td>Abbey Wood</td>\n",
       "      <td>Bexley,  Greenwich</td>\n",
       "      <td>SE2</td>\n",
       "      <td>LONDON</td>\n",
       "    </tr>\n",
       "    <tr>\n",
       "      <th>1</th>\n",
       "      <td>Acton</td>\n",
       "      <td>Ealing, Hammersmith and Fulham</td>\n",
       "      <td>W3</td>\n",
       "      <td>LONDON</td>\n",
       "    </tr>\n",
       "    <tr>\n",
       "      <th>2</th>\n",
       "      <td>Acton</td>\n",
       "      <td>Ealing, Hammersmith and Fulham</td>\n",
       "      <td>W4</td>\n",
       "      <td>LONDON</td>\n",
       "    </tr>\n",
       "    <tr>\n",
       "      <th>3</th>\n",
       "      <td>Angel</td>\n",
       "      <td>Islington</td>\n",
       "      <td>EC1</td>\n",
       "      <td>LONDON</td>\n",
       "    </tr>\n",
       "    <tr>\n",
       "      <th>4</th>\n",
       "      <td>Angel</td>\n",
       "      <td>Islington</td>\n",
       "      <td>N1</td>\n",
       "      <td>LONDON</td>\n",
       "    </tr>\n",
       "  </tbody>\n",
       "</table>\n",
       "</div>"
      ],
      "text/plain": [
       "     Location                         Borough Postcode Post-town\n",
       "0  Abbey Wood             Bexley,  Greenwich       SE2    LONDON\n",
       "1       Acton  Ealing, Hammersmith and Fulham       W3    LONDON\n",
       "2       Acton  Ealing, Hammersmith and Fulham       W4    LONDON\n",
       "3       Angel                       Islington      EC1    LONDON\n",
       "4       Angel                       Islington       N1    LONDON"
      ]
     },
     "execution_count": 42,
     "metadata": {},
     "output_type": "execute_result"
    }
   ],
   "source": [
    "df1.head(5)"
   ]
  },
  {
   "cell_type": "code",
   "execution_count": 43,
   "metadata": {},
   "outputs": [],
   "source": [
    "df2 = df1\n",
    "df21 = df2[df2['Post-town'].str.contains('LONDON')]"
   ]
  },
  {
   "cell_type": "code",
   "execution_count": 44,
   "metadata": {},
   "outputs": [
    {
     "data": {
      "text/html": [
       "<div>\n",
       "<style scoped>\n",
       "    .dataframe tbody tr th:only-of-type {\n",
       "        vertical-align: middle;\n",
       "    }\n",
       "\n",
       "    .dataframe tbody tr th {\n",
       "        vertical-align: top;\n",
       "    }\n",
       "\n",
       "    .dataframe thead th {\n",
       "        text-align: right;\n",
       "    }\n",
       "</style>\n",
       "<table border=\"1\" class=\"dataframe\">\n",
       "  <thead>\n",
       "    <tr style=\"text-align: right;\">\n",
       "      <th></th>\n",
       "      <th>Location</th>\n",
       "      <th>Borough</th>\n",
       "      <th>Postcode</th>\n",
       "      <th>Post-town</th>\n",
       "    </tr>\n",
       "  </thead>\n",
       "  <tbody>\n",
       "    <tr>\n",
       "      <th>0</th>\n",
       "      <td>Abbey Wood</td>\n",
       "      <td>Bexley,  Greenwich</td>\n",
       "      <td>SE2</td>\n",
       "      <td>LONDON</td>\n",
       "    </tr>\n",
       "    <tr>\n",
       "      <th>1</th>\n",
       "      <td>Acton</td>\n",
       "      <td>Ealing, Hammersmith and Fulham</td>\n",
       "      <td>W3</td>\n",
       "      <td>LONDON</td>\n",
       "    </tr>\n",
       "    <tr>\n",
       "      <th>2</th>\n",
       "      <td>Acton</td>\n",
       "      <td>Ealing, Hammersmith and Fulham</td>\n",
       "      <td>W4</td>\n",
       "      <td>LONDON</td>\n",
       "    </tr>\n",
       "    <tr>\n",
       "      <th>3</th>\n",
       "      <td>Angel</td>\n",
       "      <td>Islington</td>\n",
       "      <td>EC1</td>\n",
       "      <td>LONDON</td>\n",
       "    </tr>\n",
       "    <tr>\n",
       "      <th>4</th>\n",
       "      <td>Angel</td>\n",
       "      <td>Islington</td>\n",
       "      <td>N1</td>\n",
       "      <td>LONDON</td>\n",
       "    </tr>\n",
       "  </tbody>\n",
       "</table>\n",
       "</div>"
      ],
      "text/plain": [
       "     Location                         Borough Postcode Post-town\n",
       "0  Abbey Wood             Bexley,  Greenwich       SE2    LONDON\n",
       "1       Acton  Ealing, Hammersmith and Fulham       W3    LONDON\n",
       "2       Acton  Ealing, Hammersmith and Fulham       W4    LONDON\n",
       "3       Angel                       Islington      EC1    LONDON\n",
       "4       Angel                       Islington       N1    LONDON"
      ]
     },
     "execution_count": 44,
     "metadata": {},
     "output_type": "execute_result"
    }
   ],
   "source": [
    "df21.head(5)"
   ]
  },
  {
   "cell_type": "code",
   "execution_count": 45,
   "metadata": {},
   "outputs": [],
   "source": [
    "# We need to take of the column \"Post-town\" out of dataset \"df21\"\n",
    "df3 = df21[['Location', 'Borough', 'Postcode']].reset_index(drop=True)"
   ]
  },
  {
   "cell_type": "code",
   "execution_count": 46,
   "metadata": {},
   "outputs": [
    {
     "data": {
      "text/html": [
       "<div>\n",
       "<style scoped>\n",
       "    .dataframe tbody tr th:only-of-type {\n",
       "        vertical-align: middle;\n",
       "    }\n",
       "\n",
       "    .dataframe tbody tr th {\n",
       "        vertical-align: top;\n",
       "    }\n",
       "\n",
       "    .dataframe thead th {\n",
       "        text-align: right;\n",
       "    }\n",
       "</style>\n",
       "<table border=\"1\" class=\"dataframe\">\n",
       "  <thead>\n",
       "    <tr style=\"text-align: right;\">\n",
       "      <th></th>\n",
       "      <th>Location</th>\n",
       "      <th>Borough</th>\n",
       "      <th>Postcode</th>\n",
       "    </tr>\n",
       "  </thead>\n",
       "  <tbody>\n",
       "    <tr>\n",
       "      <th>0</th>\n",
       "      <td>Abbey Wood</td>\n",
       "      <td>Bexley,  Greenwich</td>\n",
       "      <td>SE2</td>\n",
       "    </tr>\n",
       "    <tr>\n",
       "      <th>1</th>\n",
       "      <td>Acton</td>\n",
       "      <td>Ealing, Hammersmith and Fulham</td>\n",
       "      <td>W3</td>\n",
       "    </tr>\n",
       "    <tr>\n",
       "      <th>2</th>\n",
       "      <td>Acton</td>\n",
       "      <td>Ealing, Hammersmith and Fulham</td>\n",
       "      <td>W4</td>\n",
       "    </tr>\n",
       "    <tr>\n",
       "      <th>3</th>\n",
       "      <td>Angel</td>\n",
       "      <td>Islington</td>\n",
       "      <td>EC1</td>\n",
       "    </tr>\n",
       "    <tr>\n",
       "      <th>4</th>\n",
       "      <td>Angel</td>\n",
       "      <td>Islington</td>\n",
       "      <td>N1</td>\n",
       "    </tr>\n",
       "    <tr>\n",
       "      <th>5</th>\n",
       "      <td>Church End</td>\n",
       "      <td>Brent</td>\n",
       "      <td>NW10</td>\n",
       "    </tr>\n",
       "    <tr>\n",
       "      <th>6</th>\n",
       "      <td>Church End</td>\n",
       "      <td>Barnet</td>\n",
       "      <td>N3</td>\n",
       "    </tr>\n",
       "    <tr>\n",
       "      <th>7</th>\n",
       "      <td>Clapham</td>\n",
       "      <td>Lambeth, Wandsworth</td>\n",
       "      <td>SW4</td>\n",
       "    </tr>\n",
       "    <tr>\n",
       "      <th>8</th>\n",
       "      <td>Clerkenwell</td>\n",
       "      <td>Islington</td>\n",
       "      <td>EC1</td>\n",
       "    </tr>\n",
       "    <tr>\n",
       "      <th>9</th>\n",
       "      <td>Colindale</td>\n",
       "      <td>Barnet</td>\n",
       "      <td>NW9</td>\n",
       "    </tr>\n",
       "  </tbody>\n",
       "</table>\n",
       "</div>"
      ],
      "text/plain": [
       "      Location                         Borough Postcode\n",
       "0   Abbey Wood             Bexley,  Greenwich       SE2\n",
       "1        Acton  Ealing, Hammersmith and Fulham       W3\n",
       "2        Acton  Ealing, Hammersmith and Fulham       W4\n",
       "3        Angel                       Islington      EC1\n",
       "4        Angel                       Islington       N1\n",
       "5   Church End                           Brent     NW10\n",
       "6   Church End                          Barnet       N3\n",
       "7      Clapham             Lambeth, Wandsworth      SW4\n",
       "8  Clerkenwell                       Islington      EC1\n",
       "9    Colindale                          Barnet      NW9"
      ]
     },
     "execution_count": 46,
     "metadata": {},
     "output_type": "execute_result"
    }
   ],
   "source": [
    "df3.head(10)"
   ]
  },
  {
   "cell_type": "code",
   "execution_count": 48,
   "metadata": {},
   "outputs": [],
   "source": [
    "df_london = df3"
   ]
  },
  {
   "cell_type": "markdown",
   "metadata": {},
   "source": [
    "From here you should install geocoder through pip"
   ]
  },
  {
   "cell_type": "code",
   "execution_count": 49,
   "metadata": {},
   "outputs": [],
   "source": [
    "!pip -q install geocoder\n",
    "import geocoder"
   ]
  },
  {
   "cell_type": "code",
   "execution_count": 50,
   "metadata": {},
   "outputs": [
    {
     "data": {
      "text/plain": [
       "'Geocoder ends here'"
      ]
     },
     "execution_count": 50,
     "metadata": {},
     "output_type": "execute_result"
    }
   ],
   "source": [
    "'''Geocoder starts here'''\n",
    "'''Defining a function to use --> get_latlng()'''\n",
    "def get_latlng(arcgis_geocoder):\n",
    "    \n",
    "    # Initialize the Location (lat. and long.) to \"None\"\n",
    "    lat_lng_coords = None\n",
    "    \n",
    "    # While loop helps to create a continous run until all the location coordinates are geocoded\n",
    "    \n",
    "    while(lat_lng_coords is None):\n",
    "        g = geocoder.arcgis('{}, London, United Kingdom'.format(arcgis_geocoder))\n",
    "        lat_lng_coords = g.latlng\n",
    "    return lat_lng_coords\n",
    "'''Geocoder ends here'''"
   ]
  },
  {
   "cell_type": "code",
   "execution_count": 51,
   "metadata": {},
   "outputs": [],
   "source": [
    "postal_codes = df_london['Postcode']    "
   ]
  },
  {
   "cell_type": "code",
   "execution_count": 24,
   "metadata": {},
   "outputs": [],
   "source": [
    "coordinates = [get_latlng(postal_code) for postal_code in postal_codes.tolist()]"
   ]
  },
  {
   "cell_type": "code",
   "execution_count": 25,
   "metadata": {},
   "outputs": [],
   "source": [
    "# now we store the dataframe into a new line\n",
    "df_london_loc = df_london\n",
    "\n",
    "# The obtained coordinates (latitude and longitude) are joined with the dataframe as shown\n",
    "df_london_coordinates = pd.DataFrame(coordinates, columns = ['Latitude', 'Longitude'])\n",
    "df_london_loc['Latitude'] = df_london_coordinates['Latitude']\n",
    "df_london_loc['Longitude'] = df_london_coordinates['Longitude']"
   ]
  },
  {
   "cell_type": "code",
   "execution_count": 26,
   "metadata": {},
   "outputs": [
    {
     "data": {
      "text/html": [
       "<div>\n",
       "<style scoped>\n",
       "    .dataframe tbody tr th:only-of-type {\n",
       "        vertical-align: middle;\n",
       "    }\n",
       "\n",
       "    .dataframe tbody tr th {\n",
       "        vertical-align: top;\n",
       "    }\n",
       "\n",
       "    .dataframe thead th {\n",
       "        text-align: right;\n",
       "    }\n",
       "</style>\n",
       "<table border=\"1\" class=\"dataframe\">\n",
       "  <thead>\n",
       "    <tr style=\"text-align: right;\">\n",
       "      <th></th>\n",
       "      <th>Location</th>\n",
       "      <th>Borough</th>\n",
       "      <th>Postcode</th>\n",
       "      <th>Latitude</th>\n",
       "      <th>Longitude</th>\n",
       "    </tr>\n",
       "  </thead>\n",
       "  <tbody>\n",
       "    <tr>\n",
       "      <th>0</th>\n",
       "      <td>Abbey Wood</td>\n",
       "      <td>Bexley,  Greenwich</td>\n",
       "      <td>SE2</td>\n",
       "      <td>51.49245</td>\n",
       "      <td>0.12127</td>\n",
       "    </tr>\n",
       "    <tr>\n",
       "      <th>1</th>\n",
       "      <td>Acton</td>\n",
       "      <td>Ealing, Hammersmith and Fulham</td>\n",
       "      <td>W3</td>\n",
       "      <td>51.51324</td>\n",
       "      <td>-0.26746</td>\n",
       "    </tr>\n",
       "    <tr>\n",
       "      <th>2</th>\n",
       "      <td>Acton</td>\n",
       "      <td>Ealing, Hammersmith and Fulham</td>\n",
       "      <td>W4</td>\n",
       "      <td>51.48944</td>\n",
       "      <td>-0.26194</td>\n",
       "    </tr>\n",
       "    <tr>\n",
       "      <th>3</th>\n",
       "      <td>Angel</td>\n",
       "      <td>Islington</td>\n",
       "      <td>EC1</td>\n",
       "      <td>51.52361</td>\n",
       "      <td>-0.09877</td>\n",
       "    </tr>\n",
       "    <tr>\n",
       "      <th>4</th>\n",
       "      <td>Angel</td>\n",
       "      <td>Islington</td>\n",
       "      <td>N1</td>\n",
       "      <td>51.53791</td>\n",
       "      <td>-0.09984</td>\n",
       "    </tr>\n",
       "  </tbody>\n",
       "</table>\n",
       "</div>"
      ],
      "text/plain": [
       "     Location                         Borough Postcode  Latitude  Longitude\n",
       "0  Abbey Wood             Bexley,  Greenwich       SE2  51.49245    0.12127\n",
       "1       Acton  Ealing, Hammersmith and Fulham       W3  51.51324   -0.26746\n",
       "2       Acton  Ealing, Hammersmith and Fulham       W4  51.48944   -0.26194\n",
       "3       Angel                       Islington      EC1  51.52361   -0.09877\n",
       "4       Angel                       Islington       N1  51.53791   -0.09984"
      ]
     },
     "execution_count": 26,
     "metadata": {},
     "output_type": "execute_result"
    }
   ],
   "source": [
    "df_london_loc.head()"
   ]
  },
  {
   "cell_type": "markdown",
   "metadata": {},
   "source": [
    "The data output df_london_loc will be used in week 2."
   ]
  },
  {
   "cell_type": "markdown",
   "metadata": {},
   "source": [
    "### 2.1.2 Dataset 2"
   ]
  },
  {
   "cell_type": "markdown",
   "metadata": {},
   "source": [
    "We will use the Foursquare API to locate the places of neighbourhoods of London.\n",
    "\n",
    "The places will provide the categories needed for the analysis. Checking through the categories we can answer the question which restaurant is in favor of another one."
   ]
  },
  {
   "cell_type": "markdown",
   "metadata": {},
   "source": [
    "## 2.2 How data will be used to solve the problem¶"
   ]
  },
  {
   "cell_type": "markdown",
   "metadata": {},
   "source": [
    "We will check the datasets 1 and 2 and considered in a certain radius. To be mentioned we will only be able to show off 100 places due to Foursquare resreiction. In the further analysis we will consider proximity/ cost types etc. "
   ]
  }
 ],
 "metadata": {
  "kernelspec": {
   "display_name": "Python 3",
   "language": "python",
   "name": "python3"
  },
  "language_info": {
   "codemirror_mode": {
    "name": "ipython",
    "version": 3
   },
   "file_extension": ".py",
   "mimetype": "text/x-python",
   "name": "python",
   "nbconvert_exporter": "python",
   "pygments_lexer": "ipython3",
   "version": "3.6.8"
  }
 },
 "nbformat": 4,
 "nbformat_minor": 2
}
